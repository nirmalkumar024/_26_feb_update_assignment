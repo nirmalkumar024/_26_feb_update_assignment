{
 "cells": [
  {
   "cell_type": "markdown",
   "id": "ce3a6bcd-fc50-4ce1-a035-0180615b30a2",
   "metadata": {},
   "source": [
    "list_ =[ ‘1’ , ’2’ , ‘3’ , ‘4’ , ‘5’ ]\n",
    " array_list = np.array(object = list_)\n",
    "\n",
    "Q1. Is there any difference in the data type of variables list_ and array_list? If there is then write a code to print the data types of both the variables.\n"
   ]
  },
  {
   "cell_type": "markdown",
   "id": "7b2673ec-d3af-401c-be67-58f42fe54404",
   "metadata": {},
   "source": [
    "variables list:-it the denoted of the data set by any letter of digit in list format.\n",
    "array_list:-NumPy arrays are much faster and have strict requirements on the homogeneity of the objects.\n",
    "array are set of data that contain the data set in proper manner in list format."
   ]
  },
  {
   "cell_type": "code",
   "execution_count": 4,
   "id": "af3e6563-1a87-4df1-8097-977e9efc3147",
   "metadata": {},
   "outputs": [],
   "source": [
    "import numpy as np \n",
    "l=[4,5,8,7,8]"
   ]
  },
  {
   "cell_type": "code",
   "execution_count": 5,
   "id": "b9344dbc-05e4-4f51-bf1e-7672edca08a6",
   "metadata": {},
   "outputs": [
    {
     "data": {
      "text/plain": [
       "[4, 5, 8, 7, 8]"
      ]
     },
     "execution_count": 5,
     "metadata": {},
     "output_type": "execute_result"
    }
   ],
   "source": [
    "l  #variable_list"
   ]
  },
  {
   "cell_type": "code",
   "execution_count": 7,
   "id": "95a15873-47a3-49a9-8b20-417b7b6316df",
   "metadata": {},
   "outputs": [],
   "source": [
    "arr=np.array(l) # convert variable_list into array"
   ]
  },
  {
   "cell_type": "code",
   "execution_count": 8,
   "id": "5018aca7-febb-46f9-820c-41584a8408ef",
   "metadata": {},
   "outputs": [
    {
     "data": {
      "text/plain": [
       "array([4, 5, 8, 7, 8])"
      ]
     },
     "execution_count": 8,
     "metadata": {},
     "output_type": "execute_result"
    }
   ],
   "source": [
    "arr"
   ]
  },
  {
   "cell_type": "markdown",
   "id": "eb0bb711-870d-4a07-bde0-572ddfa62400",
   "metadata": {},
   "source": [
    "Q2. Write a code to print the data type of each and every element of both the variables list_ and arra_list.\n"
   ]
  },
  {
   "cell_type": "markdown",
   "id": "e19a0d6d-ff8b-4aea-96ae-3a76204b14dc",
   "metadata": {},
   "source": [
    "import numpy as np\n",
    "\n",
    "list_ = [ ‘1’ , ’2’ , ‘3’ , ‘4’ , ‘5’ ]  #invalide data structure\n",
    " array_list = np.array(object = list_)"
   ]
  },
  {
   "cell_type": "markdown",
   "id": "391b2395-df30-4fae-a014-9fcab164aa18",
   "metadata": {},
   "source": [
    "it is not import in the structure array_list"
   ]
  },
  {
   "cell_type": "markdown",
   "id": "fde58ffe-5157-453a-b0bc-948375a22714",
   "metadata": {},
   "source": [
    "Q3. Considering the following changes in the variable, array_list:\n",
    " array_list = np.array(object = list_, dtype = int)\n",
    "\n",
    "Will there be any difference in the data type of the elements present in both the variables, list_ and arra_list? If so then print the data types of each and every element present in both the variables, list_ and arra_list.\n",
    "\n",
    "Consider the below code to answer further questions:\n",
    " import numpy as np\n",
    "\n",
    "num_list = [ [ 1 , 2 , 3 ] , [ 4 , 5 , 6 ] ]\n",
    " num_array = np.array(object = num_list)"
   ]
  },
  {
   "cell_type": "code",
   "execution_count": 14,
   "id": "f48e310f-04b4-42cf-a0d6-c21926681e74",
   "metadata": {},
   "outputs": [],
   "source": [
    "num_list=[[1,2,3],[4,5,6]]"
   ]
  },
  {
   "cell_type": "code",
   "execution_count": 15,
   "id": "8d54ffa2-8bd1-417d-9f4b-079fa92def63",
   "metadata": {},
   "outputs": [
    {
     "data": {
      "text/plain": [
       "[[1, 2, 3], [4, 5, 6]]"
      ]
     },
     "execution_count": 15,
     "metadata": {},
     "output_type": "execute_result"
    }
   ],
   "source": [
    "num_list"
   ]
  },
  {
   "cell_type": "code",
   "execution_count": 18,
   "id": "3a3d15a1-608a-4ac2-839d-ac37b378ef53",
   "metadata": {},
   "outputs": [],
   "source": [
    "df=np.array(num_list)"
   ]
  },
  {
   "cell_type": "code",
   "execution_count": 19,
   "id": "e6532a41-782d-478b-8968-5d7c6f3ad1ae",
   "metadata": {},
   "outputs": [
    {
     "data": {
      "text/plain": [
       "array([[1, 2, 3],\n",
       "       [4, 5, 6]])"
      ]
     },
     "execution_count": 19,
     "metadata": {},
     "output_type": "execute_result"
    }
   ],
   "source": [
    "df"
   ]
  },
  {
   "cell_type": "markdown",
   "id": "47244a7c-b28b-40bf-afeb-ca1f68b0430e",
   "metadata": {},
   "source": [
    "Q4. Write a code to find the following characteristics of variable, num_array:\n",
    " (i)shape\n",
    "\n",
    "(ii) size\n",
    "\n"
   ]
  },
  {
   "cell_type": "code",
   "execution_count": 3,
   "id": "707f920d-490b-43c7-ada2-325d666d229b",
   "metadata": {},
   "outputs": [],
   "source": [
    "import numpy as np\n",
    "sz=np.random.randint(1,8,(4,3))"
   ]
  },
  {
   "cell_type": "code",
   "execution_count": 4,
   "id": "eca0c472-af0c-45cf-bda5-499bda9a7317",
   "metadata": {},
   "outputs": [
    {
     "data": {
      "text/plain": [
       "12"
      ]
     },
     "execution_count": 4,
     "metadata": {},
     "output_type": "execute_result"
    }
   ],
   "source": [
    "sz.size"
   ]
  },
  {
   "cell_type": "code",
   "execution_count": 5,
   "id": "a8606872-99b6-40ca-96cb-af99994621f5",
   "metadata": {},
   "outputs": [
    {
     "data": {
      "text/plain": [
       "(4, 3)"
      ]
     },
     "execution_count": 5,
     "metadata": {},
     "output_type": "execute_result"
    }
   ],
   "source": [
    "sz.shape"
   ]
  },
  {
   "cell_type": "markdown",
   "id": "4c208a6c-fe31-4ff0-b6eb-6c205e0985c7",
   "metadata": {},
   "source": [
    "Q5. Write a code to create numpy array of 3*3 matrix containing zeros only, using a numpy array creation function.\n",
    "\n",
    "[Hint: The size of the array will be 9 and the shape will be (3,3).]\n",
    "\n"
   ]
  },
  {
   "cell_type": "code",
   "execution_count": 12,
   "id": "9587ba47-ae66-4737-8e24-6702f01626d6",
   "metadata": {},
   "outputs": [
    {
     "data": {
      "text/plain": [
       "array([[0., 0., 0.],\n",
       "       [0., 0., 0.],\n",
       "       [0., 0., 0.]])"
      ]
     },
     "execution_count": 12,
     "metadata": {},
     "output_type": "execute_result"
    }
   ],
   "source": [
    "np.zeros((3,3))"
   ]
  },
  {
   "cell_type": "markdown",
   "id": "21dbdd81-3cef-47bd-a473-4d3d47fb6d77",
   "metadata": {},
   "source": [
    "Q6. Create an identity matrix of shape (5,5) using numpy functions?\n",
    "\n",
    "[Hint: An identity matrix is a matrix containing 1 diagonally and other elements will be 0.]"
   ]
  },
  {
   "cell_type": "code",
   "execution_count": 13,
   "id": "71212c2d-b46b-4aab-8d9b-215aab65ec92",
   "metadata": {},
   "outputs": [
    {
     "data": {
      "text/plain": [
       "array([[1., 0., 0., 0., 0.],\n",
       "       [0., 1., 0., 0., 0.],\n",
       "       [0., 0., 1., 0., 0.],\n",
       "       [0., 0., 0., 1., 0.],\n",
       "       [0., 0., 0., 0., 1.]])"
      ]
     },
     "execution_count": 13,
     "metadata": {},
     "output_type": "execute_result"
    }
   ],
   "source": [
    "np.eye(5)"
   ]
  },
  {
   "cell_type": "code",
   "execution_count": null,
   "id": "08ba0bee-1003-48b8-b0b3-57303b868fc4",
   "metadata": {},
   "outputs": [],
   "source": []
  }
 ],
 "metadata": {
  "kernelspec": {
   "display_name": "Python 3 (ipykernel)",
   "language": "python",
   "name": "python3"
  },
  "language_info": {
   "codemirror_mode": {
    "name": "ipython",
    "version": 3
   },
   "file_extension": ".py",
   "mimetype": "text/x-python",
   "name": "python",
   "nbconvert_exporter": "python",
   "pygments_lexer": "ipython3",
   "version": "3.10.8"
  }
 },
 "nbformat": 4,
 "nbformat_minor": 5
}
